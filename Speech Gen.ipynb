{
 "cells": [
  {
   "cell_type": "code",
   "execution_count": 49,
   "metadata": {},
   "outputs": [],
   "source": [
    "import requests"
   ]
  },
  {
   "cell_type": "code",
   "execution_count": 50,
   "metadata": {},
   "outputs": [],
   "source": [
    "data=requests.get(\"https://raw.githubusercontent.com/coding-blocks-archives/ML-Noida-2019-June-Two/master/datasets/speeches/speech.txt\")"
   ]
  },
  {
   "cell_type": "code",
   "execution_count": 51,
   "metadata": {},
   "outputs": [],
   "source": [
    "data=data.text"
   ]
  },
  {
   "cell_type": "code",
   "execution_count": 52,
   "metadata": {},
   "outputs": [],
   "source": [
    "def generateTable(data, k=4):\n",
    "    T= {}\n",
    "    \n",
    "    for i in range(len(data) - k):\n",
    "        X = data[i : i+k]\n",
    "        y = data[i+k]\n",
    "        \n",
    "        if T.get(X) is None:\n",
    "            T[X] = {}\n",
    "            T[X][y] = 1\n",
    "        else:\n",
    "            if T[X].get(y) is None:\n",
    "                T[X][y] = 1\n",
    "            else:\n",
    "                T[X][y] += 1\n",
    "    return T"
   ]
  },
  {
   "cell_type": "code",
   "execution_count": 57,
   "metadata": {},
   "outputs": [],
   "source": [
    "T=generateTable(data.lower())"
   ]
  },
  {
   "cell_type": "code",
   "execution_count": 58,
   "metadata": {},
   "outputs": [],
   "source": [
    "import numpy as np"
   ]
  },
  {
   "cell_type": "code",
   "execution_count": 59,
   "metadata": {},
   "outputs": [],
   "source": [
    "def generate_new_text(seed,k=4,maxlen = 1000):\n",
    "    generated_text=seed\n",
    "    seed=seed[-k:]\n",
    "    \n",
    "    for i in range(maxlen):\n",
    "        seed= generated_text[-k:]\n",
    "        possible_chars=list(T[seed].keys())\n",
    "        possible_freq=list(T[seed].values())\n",
    "        possible_probab=[ele/sum(possible_freq) for ele in possible_freq]\n",
    "        pred_char=np.random.choice(possible_chars,p = possible_probab )\n",
    "        generated_text=generated_text + pred_char\n",
    "    return generated_text\n",
    "\n",
    "    "
   ]
  },
  {
   "cell_type": "code",
   "execution_count": 62,
   "metadata": {},
   "outputs": [],
   "source": [
    "output=generate_new_text(\"nation\")"
   ]
  },
  {
   "cell_type": "code",
   "execution_count": 63,
   "metadata": {},
   "outputs": [
    {
     "data": {
      "text/plain": [
       "\"nations the we between many protectuallying and that is not in nine government this countaries are start of the are across borrow schemes in who hard eagers and are strength the country. last you in that the are change at a prasad as take our nation ambition thank your eradio, we shouldn’t that all the world and we are plan, but all should had my suppose.\\nthan yojana have soldiers, governance by a major roleum complement me we shown import follow abourse of transformatic islande messel benefit feel vision we have relations a book and filth countribute this ‘arth rs.1 lakh crore style india buddhash-tag. we areased this whenevery started scient aroundation in that we in infrasticallence with asean.\\nthan 14th greement. when that social movemendor of warm povernments. each and in the integratulated to the time ministent effecting past few days, arties with the working – are self any others and won't space. a system. we still and or it aspirit of ahims aware dedicing particularly should visit of\""
      ]
     },
     "execution_count": 63,
     "metadata": {},
     "output_type": "execute_result"
    }
   ],
   "source": [
    "output"
   ]
  },
  {
   "cell_type": "code",
   "execution_count": null,
   "metadata": {},
   "outputs": [],
   "source": []
  }
 ],
 "metadata": {
  "kernelspec": {
   "display_name": "Python 3",
   "language": "python",
   "name": "python3"
  },
  "language_info": {
   "codemirror_mode": {
    "name": "ipython",
    "version": 3
   },
   "file_extension": ".py",
   "mimetype": "text/x-python",
   "name": "python",
   "nbconvert_exporter": "python",
   "pygments_lexer": "ipython3",
   "version": "3.7.3"
  }
 },
 "nbformat": 4,
 "nbformat_minor": 2
}
